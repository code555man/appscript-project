{
  "nbformat": 4,
  "nbformat_minor": 0,
  "metadata": {
    "colab": {
      "provenance": [],
      "gpuType": "T4",
      "authorship_tag": "ABX9TyOBisqguZ1i9wNNlrbGqZ6l",
      "include_colab_link": true
    },
    "kernelspec": {
      "name": "python3",
      "display_name": "Python 3"
    },
    "language_info": {
      "name": "python"
    },
    "accelerator": "GPU"
  },
  "cells": [
    {
      "cell_type": "markdown",
      "metadata": {
        "id": "view-in-github",
        "colab_type": "text"
      },
      "source": [
        "<a href=\"https://colab.research.google.com/github/code555man/appscript-project/blob/main/yolov7_cricket.ipynb\" target=\"_parent\"><img src=\"https://colab.research.google.com/assets/colab-badge.svg\" alt=\"Open In Colab\"/></a>"
      ]
    },
    {
      "cell_type": "code",
      "execution_count": null,
      "metadata": {
        "id": "cSMiRVYnXlLn"
      },
      "outputs": [],
      "source": [
        "1+1"
      ]
    },
    {
      "cell_type": "code",
      "source": [
        "!git clone https://github.com/code555man/cricket-yolo"
      ],
      "metadata": {
        "id": "LRjOG8KvXmQt"
      },
      "execution_count": null,
      "outputs": []
    },
    {
      "cell_type": "code",
      "source": [
        "%cd cricket-yolo\n"
      ],
      "metadata": {
        "colab": {
          "base_uri": "https://localhost:8080/"
        },
        "id": "qSHArBIDX0Cm",
        "outputId": "96bb0da1-ff6f-4f2b-a7e5-8a63dc6f279e"
      },
      "execution_count": 1,
      "outputs": [
        {
          "output_type": "stream",
          "name": "stdout",
          "text": [
            "/content/cricket-yolo\n"
          ]
        }
      ]
    },
    {
      "cell_type": "code",
      "source": [
        "%cd cricket-detect"
      ],
      "metadata": {
        "colab": {
          "base_uri": "https://localhost:8080/"
        },
        "id": "xCewoLEc9v03",
        "outputId": "01430c47-ada8-4b64-bdba-468682a4c24c"
      },
      "execution_count": 2,
      "outputs": [
        {
          "output_type": "stream",
          "name": "stdout",
          "text": [
            "/content/cricket-yolo/cricket-detect\n"
          ]
        }
      ]
    },
    {
      "cell_type": "code",
      "source": [
        "!pip install -r requirements.txt"
      ],
      "metadata": {
        "id": "fwqNLTF6X2nF"
      },
      "execution_count": null,
      "outputs": []
    },
    {
      "cell_type": "code",
      "source": [
        "!python train.py --batch 16 --epochs 100 --data /content/cricket-yolo/cricket-train/data.yaml --weights 'yolov7-tiny.pt' --device 0"
      ],
      "metadata": {
        "id": "c5BziwqRYG2F"
      },
      "execution_count": null,
      "outputs": []
    },
    {
      "cell_type": "code",
      "source": [
        "!python detect.py --weights runs/train/exp/weights/best.pt --conf 0.1 --source /content/cricket-yolo/cricket-test/image/"
      ],
      "metadata": {
        "id": "xsLC8Szg5Vzt"
      },
      "execution_count": null,
      "outputs": []
    }
  ]
}